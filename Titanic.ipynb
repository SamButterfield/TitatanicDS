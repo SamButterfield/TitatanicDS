{
 "cells": [
  {
   "cell_type": "markdown",
   "metadata": {},
   "source": [
    "# Kaggle Titanic Competition\n",
    "**Outline:** This is the NoteBook on the Titanic Kaggle challenge. This covers a high level EDA, Feature Engineering, Feature Analysis and Model Prediction. This is my first Kaggle Challenge and my first start to finish with machine learning models, prior to this I have had experience with EDA with medical data sets and feature engineering."
   ]
  },
  {
   "cell_type": "markdown",
   "metadata": {},
   "source": [
    "## Imports"
   ]
  },
  {
   "cell_type": "code",
   "execution_count": 1,
   "metadata": {},
   "outputs": [],
   "source": [
    "import pandas as pd\n",
    "import numpy as np\n",
    "import seaborn as sns\n",
    "import matplotlib.pyplot as plt\n",
    "from scipy import stats\n",
    "\n",
    "train_df = pd.read_csv(r'F:\\Sam Butterfield\\Desktop\\DataScienceProjects\\Data\\Titanic\\train.csv')\n",
    "test_df = pd.read_csv(r'F:\\Sam Butterfield\\Desktop\\DataScienceProjects\\Data\\Titanic\\test.csv')"
   ]
  },
  {
   "cell_type": "markdown",
   "metadata": {},
   "source": [
    "# EDA\n",
    "## Structure"
   ]
  },
  {
   "cell_type": "code",
   "execution_count": 2,
   "metadata": {},
   "outputs": [
    {
     "data": {
      "text/html": [
       "<div>\n",
       "<style scoped>\n",
       "    .dataframe tbody tr th:only-of-type {\n",
       "        vertical-align: middle;\n",
       "    }\n",
       "\n",
       "    .dataframe tbody tr th {\n",
       "        vertical-align: top;\n",
       "    }\n",
       "\n",
       "    .dataframe thead th {\n",
       "        text-align: right;\n",
       "    }\n",
       "</style>\n",
       "<table border=\"1\" class=\"dataframe\">\n",
       "  <thead>\n",
       "    <tr style=\"text-align: right;\">\n",
       "      <th></th>\n",
       "      <th>PassengerId</th>\n",
       "      <th>Survived</th>\n",
       "      <th>Pclass</th>\n",
       "      <th>Name</th>\n",
       "      <th>Sex</th>\n",
       "      <th>Age</th>\n",
       "      <th>SibSp</th>\n",
       "      <th>Parch</th>\n",
       "      <th>Ticket</th>\n",
       "      <th>Fare</th>\n",
       "      <th>Cabin</th>\n",
       "      <th>Embarked</th>\n",
       "    </tr>\n",
       "  </thead>\n",
       "  <tbody>\n",
       "    <tr>\n",
       "      <th>822</th>\n",
       "      <td>823</td>\n",
       "      <td>0</td>\n",
       "      <td>1</td>\n",
       "      <td>Reuchlin, Jonkheer. John George</td>\n",
       "      <td>male</td>\n",
       "      <td>38.0</td>\n",
       "      <td>0</td>\n",
       "      <td>0</td>\n",
       "      <td>19972</td>\n",
       "      <td>0.0000</td>\n",
       "      <td>NaN</td>\n",
       "      <td>S</td>\n",
       "    </tr>\n",
       "    <tr>\n",
       "      <th>500</th>\n",
       "      <td>501</td>\n",
       "      <td>0</td>\n",
       "      <td>3</td>\n",
       "      <td>Calic, Mr. Petar</td>\n",
       "      <td>male</td>\n",
       "      <td>17.0</td>\n",
       "      <td>0</td>\n",
       "      <td>0</td>\n",
       "      <td>315086</td>\n",
       "      <td>8.6625</td>\n",
       "      <td>NaN</td>\n",
       "      <td>S</td>\n",
       "    </tr>\n",
       "    <tr>\n",
       "      <th>332</th>\n",
       "      <td>333</td>\n",
       "      <td>0</td>\n",
       "      <td>1</td>\n",
       "      <td>Graham, Mr. George Edward</td>\n",
       "      <td>male</td>\n",
       "      <td>38.0</td>\n",
       "      <td>0</td>\n",
       "      <td>1</td>\n",
       "      <td>PC 17582</td>\n",
       "      <td>153.4625</td>\n",
       "      <td>C91</td>\n",
       "      <td>S</td>\n",
       "    </tr>\n",
       "    <tr>\n",
       "      <th>445</th>\n",
       "      <td>446</td>\n",
       "      <td>1</td>\n",
       "      <td>1</td>\n",
       "      <td>Dodge, Master. Washington</td>\n",
       "      <td>male</td>\n",
       "      <td>4.0</td>\n",
       "      <td>0</td>\n",
       "      <td>2</td>\n",
       "      <td>33638</td>\n",
       "      <td>81.8583</td>\n",
       "      <td>A34</td>\n",
       "      <td>S</td>\n",
       "    </tr>\n",
       "    <tr>\n",
       "      <th>802</th>\n",
       "      <td>803</td>\n",
       "      <td>1</td>\n",
       "      <td>1</td>\n",
       "      <td>Carter, Master. William Thornton II</td>\n",
       "      <td>male</td>\n",
       "      <td>11.0</td>\n",
       "      <td>1</td>\n",
       "      <td>2</td>\n",
       "      <td>113760</td>\n",
       "      <td>120.0000</td>\n",
       "      <td>B96 B98</td>\n",
       "      <td>S</td>\n",
       "    </tr>\n",
       "  </tbody>\n",
       "</table>\n",
       "</div>"
      ],
      "text/plain": [
       "     PassengerId  Survived  Pclass                                 Name   Sex  \\\n",
       "822          823         0       1      Reuchlin, Jonkheer. John George  male   \n",
       "500          501         0       3                     Calic, Mr. Petar  male   \n",
       "332          333         0       1            Graham, Mr. George Edward  male   \n",
       "445          446         1       1            Dodge, Master. Washington  male   \n",
       "802          803         1       1  Carter, Master. William Thornton II  male   \n",
       "\n",
       "      Age  SibSp  Parch    Ticket      Fare    Cabin Embarked  \n",
       "822  38.0      0      0     19972    0.0000      NaN        S  \n",
       "500  17.0      0      0    315086    8.6625      NaN        S  \n",
       "332  38.0      0      1  PC 17582  153.4625      C91        S  \n",
       "445   4.0      0      2     33638   81.8583      A34        S  \n",
       "802  11.0      1      2    113760  120.0000  B96 B98        S  "
      ]
     },
     "execution_count": 2,
     "metadata": {},
     "output_type": "execute_result"
    }
   ],
   "source": [
    "train_df.sample(5)"
   ]
  },
  {
   "cell_type": "markdown",
   "metadata": {},
   "source": [
    "## Data Dictionary\n",
    "- PassengerId: and id that is given to each traveler on the boat\n",
    "- Pclass: the passenger class. It has three possible values: 1,2,3 (first, second and third class)\n",
    "- The Name of the passenger\n",
    "- The Sex\n",
    "- The Age\n",
    "- SibSp: number of siblings and spouses traveling with the passenger\n",
    "- Parch: number of parents and children traveling with the passenger\n",
    "- The ticket number\n",
    "- The ticket fare\n",
    "- The cabin number\n",
    "- The embarkation: location passenger boarded the ship (S, Q, C)"
   ]
  },
  {
   "cell_type": "code",
   "execution_count": 3,
   "metadata": {},
   "outputs": [
    {
     "data": {
      "text/html": [
       "<div>\n",
       "<style scoped>\n",
       "    .dataframe tbody tr th:only-of-type {\n",
       "        vertical-align: middle;\n",
       "    }\n",
       "\n",
       "    .dataframe tbody tr th {\n",
       "        vertical-align: top;\n",
       "    }\n",
       "\n",
       "    .dataframe thead th {\n",
       "        text-align: right;\n",
       "    }\n",
       "</style>\n",
       "<table border=\"1\" class=\"dataframe\">\n",
       "  <thead>\n",
       "    <tr style=\"text-align: right;\">\n",
       "      <th></th>\n",
       "      <th>Age</th>\n",
       "      <th>Fare</th>\n",
       "    </tr>\n",
       "  </thead>\n",
       "  <tbody>\n",
       "    <tr>\n",
       "      <th>count</th>\n",
       "      <td>714.000000</td>\n",
       "      <td>891.000000</td>\n",
       "    </tr>\n",
       "    <tr>\n",
       "      <th>mean</th>\n",
       "      <td>29.699118</td>\n",
       "      <td>32.204208</td>\n",
       "    </tr>\n",
       "    <tr>\n",
       "      <th>std</th>\n",
       "      <td>14.526497</td>\n",
       "      <td>49.693429</td>\n",
       "    </tr>\n",
       "    <tr>\n",
       "      <th>min</th>\n",
       "      <td>0.420000</td>\n",
       "      <td>0.000000</td>\n",
       "    </tr>\n",
       "    <tr>\n",
       "      <th>25%</th>\n",
       "      <td>20.125000</td>\n",
       "      <td>7.910400</td>\n",
       "    </tr>\n",
       "    <tr>\n",
       "      <th>50%</th>\n",
       "      <td>28.000000</td>\n",
       "      <td>14.454200</td>\n",
       "    </tr>\n",
       "    <tr>\n",
       "      <th>75%</th>\n",
       "      <td>38.000000</td>\n",
       "      <td>31.000000</td>\n",
       "    </tr>\n",
       "    <tr>\n",
       "      <th>max</th>\n",
       "      <td>80.000000</td>\n",
       "      <td>512.329200</td>\n",
       "    </tr>\n",
       "  </tbody>\n",
       "</table>\n",
       "</div>"
      ],
      "text/plain": [
       "              Age        Fare\n",
       "count  714.000000  891.000000\n",
       "mean    29.699118   32.204208\n",
       "std     14.526497   49.693429\n",
       "min      0.420000    0.000000\n",
       "25%     20.125000    7.910400\n",
       "50%     28.000000   14.454200\n",
       "75%     38.000000   31.000000\n",
       "max     80.000000  512.329200"
      ]
     },
     "execution_count": 3,
     "metadata": {},
     "output_type": "execute_result"
    }
   ],
   "source": [
    "train_df[['Age', 'Fare']].describe()"
   ]
  },
  {
   "cell_type": "code",
   "execution_count": 4,
   "metadata": {},
   "outputs": [
    {
     "name": "stdout",
     "output_type": "stream",
     "text": [
      "Length: 891\n",
      "Number Survived: 342\n",
      "Number Died: 549\n",
      "Number of Males: 577\n",
      "Number of Females: 314\n",
      "Number of First Class: 216\n",
      "Number of Second Class: 184\n",
      "Number of Third Class: 491\n"
     ]
    }
   ],
   "source": [
    "length = len(train_df)\n",
    "num_survived = train_df[train_df['Survived'] == 1].count()[0]\n",
    "num_died = train_df[train_df['Survived'] == 0].count()[0]\n",
    "num_male = train_df[train_df['Sex'] == 'male'].count()[0]\n",
    "num_female = train_df[train_df['Sex'] == 'female'].count()[0]\n",
    "num_1class = train_df[train_df['Pclass'] == 1].count()[0]\n",
    "num_2class = train_df[train_df['Pclass'] == 2].count()[0]\n",
    "num_3class = train_df[train_df['Pclass'] == 3].count()[0]\n",
    "\n",
    "print(f\"Length: {length}\\nNumber Survived: {num_survived}\\nNumber Died: {num_died}\\nNumber of Males: {num_male}\\nNumber of Females: {num_female}\\nNumber of First Class: {num_1class}\\nNumber of Second Class: {num_2class}\\nNumber of Third Class: {num_3class}\")"
   ]
  },
  {
   "cell_type": "markdown",
   "metadata": {},
   "source": [
    "## NaN"
   ]
  },
  {
   "cell_type": "code",
   "execution_count": 5,
   "metadata": {},
   "outputs": [
    {
     "data": {
      "text/plain": [
       "PassengerId      0\n",
       "Survived         0\n",
       "Pclass           0\n",
       "Name             0\n",
       "Sex              0\n",
       "Age            177\n",
       "SibSp            0\n",
       "Parch            0\n",
       "Ticket           0\n",
       "Fare             0\n",
       "Cabin          687\n",
       "Embarked         2\n",
       "dtype: int64"
      ]
     },
     "execution_count": 5,
     "metadata": {},
     "output_type": "execute_result"
    }
   ],
   "source": [
    "# Training Set\n",
    "train_df.isna().sum()"
   ]
  },
  {
   "cell_type": "code",
   "execution_count": 6,
   "metadata": {},
   "outputs": [
    {
     "data": {
      "text/plain": [
       "PassengerId      0\n",
       "Pclass           0\n",
       "Name             0\n",
       "Sex              0\n",
       "Age             86\n",
       "SibSp            0\n",
       "Parch            0\n",
       "Ticket           0\n",
       "Fare             1\n",
       "Cabin          327\n",
       "Embarked         0\n",
       "dtype: int64"
      ]
     },
     "execution_count": 6,
     "metadata": {},
     "output_type": "execute_result"
    }
   ],
   "source": [
    "# Test Set\n",
    "test_df.isna().sum()"
   ]
  },
  {
   "cell_type": "markdown",
   "metadata": {},
   "source": [
    "### Cleaning\n",
    "**Training** \n",
    "- Age\n",
    "- Cabin\n",
    "- Embarked\n",
    "\n",
    "**Test**\n",
    "- Age\n",
    "- Fare\n",
    "- Cabin\n"
   ]
  },
  {
   "cell_type": "markdown",
   "metadata": {},
   "source": [
    "**Cleaning Age** To get the most accurate imputation I will engineer the feature 'Title', this feature will extract the title of the individual from the name feature. I will then impute by mean across the 'Title' and 'Sex' features."
   ]
  },
  {
   "cell_type": "code",
   "execution_count": 7,
   "metadata": {},
   "outputs": [],
   "source": [
    "from ipynb.fs.full.TitanicFunctions import engineer_title, fill_age\n",
    "# Engineer Title\n",
    "train_df = engineer_title(train_df)\n",
    "test_df = engineer_title(test_df)\n",
    "# Clean Age\n",
    "train_df = fill_age(train_df)\n",
    "test_df = fill_age(test_df)"
   ]
  },
  {
   "cell_type": "markdown",
   "metadata": {},
   "source": [
    "**Cleaning Fare** In the test set exists 1 missing Fare. There is a large difference in Fare between Classes, but given it is only 1 value I will simply fill by mean for simplification."
   ]
  },
  {
   "cell_type": "code",
   "execution_count": 8,
   "metadata": {},
   "outputs": [
    {
     "data": {
      "text/plain": [
       "<seaborn.axisgrid.FacetGrid at 0x2d21bb262c8>"
      ]
     },
     "execution_count": 8,
     "metadata": {},
     "output_type": "execute_result"
    },
    {
     "data": {
      "image/png": "[encoded data removed]",
      "text/plain": [
       "<Figure size 582.375x360 with 1 Axes>"
      ]
     },
     "metadata": {
      "needs_background": "light"
     },
     "output_type": "display_data"
    }
   ],
   "source": [
    "sns.catplot(x = 'Sex', y = 'Fare', hue = 'Pclass', aspect = 1.5, kind = 'bar', data = test_df,)"
   ]
  },
  {
   "cell_type": "code",
   "execution_count": 9,
   "metadata": {},
   "outputs": [],
   "source": [
    "from ipynb.fs.full.TitanicFunctions import fill_fare\n",
    "# Clean Fare\n",
    "test_df = fill_fare(test_df)"
   ]
  },
  {
   "cell_type": "markdown",
   "metadata": {},
   "source": [
    "**Cleaning Cabin** The starting character defines the location of the cabin within the ship, this is often clearly separated into what Class your ticket is. If there are multiple different Classes within one section you can differentiate this Cabin Location by Fare & Class.\n",
    "\"T\" does not appear within the records and I will assume this is an error and group \"T\" into \"A\" as they have similar Fares.\n",
    "\n",
    "I will not try to impute the exact cabin but simply the beginning character, which defines its location, this feature will be called 'CabinLocation'.\n",
    "<img src=\"https://vignette.wikia.nocookie.net/titanic/images/f/f9/Titanic_side_plan.png/revision/latest?cb=20180322183733\" alt=\"Titanic Deck & Cabin Layout\" title=\"Titanic Deck & Cabin Layout\" />"
   ]
  },
  {
   "cell_type": "code",
   "execution_count": 10,
   "metadata": {},
   "outputs": [
    {
     "data": {
      "text/plain": [
       "(<seaborn.axisgrid.FacetGrid at 0x2d21c2d4248>,\n",
       " <seaborn.axisgrid.FacetGrid at 0x2d21c2d4248>)"
      ]
     },
     "execution_count": 10,
     "metadata": {},
     "output_type": "execute_result"
    },
    {
     "data": {
      "image/png": "[encoded data removed]",
      "text/plain": [
       "<Figure size 582.375x360 with 1 Axes>"
      ]
     },
     "metadata": {
      "needs_background": "light"
     },
     "output_type": "display_data"
    }
   ],
   "source": [
    "train_df['Cabin'].fillna(0, inplace = True)\n",
    "train_df['CabinLocation'] = train_df.Cabin.astype(str).str[0]\n",
    "ax = sns.catplot(x = 'CabinLocation', y = 'Fare', hue = 'Pclass', kind = 'violin', aspect = 1.5,  data = train_df, order = ['A', 'B', 'C', 'D', 'E', 'F', 'G', 'T', '0'])\n",
    "ax.set(ylim = (0,300)), ax"
   ]
  },
  {
   "cell_type": "code",
   "execution_count": 11,
   "metadata": {},
   "outputs": [
    {
     "name": "stdout",
     "output_type": "stream",
     "text": [
      "   CabinLocation     Sex  PassengerId\n",
      "0              0  female          217\n",
      "1              0    male          470\n",
      "2              A  female            1\n",
      "3              A    male           14\n",
      "4              B  female           27\n",
      "5              B    male           20\n",
      "6              C  female           27\n",
      "7              C    male           32\n",
      "8              D  female           18\n",
      "9              D    male           15\n",
      "10             E  female           15\n",
      "11             E    male           17\n",
      "12             F  female            5\n",
      "13             F    male            8\n",
      "14             G  female            4\n",
      "15             T    male            1\n"
     ]
    },
    {
     "data": {
      "text/plain": [
       "<seaborn.axisgrid.FacetGrid at 0x2d21c374dc8>"
      ]
     },
     "execution_count": 11,
     "metadata": {},
     "output_type": "execute_result"
    },
    {
     "data": {
      "image/png": "[encoded data removed]",
      "text/plain": [
       "<Figure size 610.5x360 with 1 Axes>"
      ]
     },
     "metadata": {
      "needs_background": "light"
     },
     "output_type": "display_data"
    }
   ],
   "source": [
    "print(train_df.groupby(['CabinLocation', 'Sex']).count().reset_index().iloc[:,:3])\n",
    "sns.catplot(x = 'CabinLocation', y = 'Survived', hue = 'Sex', aspect = 1.5, kind = 'bar', data = train_df, order = ['A', 'B', 'C', 'D', 'E', 'F', 'G', 'T', '0'])"
   ]
  },
  {
   "cell_type": "markdown",
   "metadata": {},
   "source": [
    "#### Cleaning - CabinLocation - Feature Selection\n",
    "I will use Random Forest to fill the feature 'CabinLocation'."
   ]
  },
  {
   "cell_type": "code",
   "execution_count": 12,
   "metadata": {
    "scrolled": false
   },
   "outputs": [
    {
     "data": {
      "text/plain": [
       "<seaborn.axisgrid.FacetGrid at 0x2d21c541d88>"
      ]
     },
     "execution_count": 12,
     "metadata": {},
     "output_type": "execute_result"
    },
    {
     "data": {
      "image/png": "[encoded data removed]",
      "text/plain": [
       "<Figure size 540x360 with 1 Axes>"
      ]
     },
     "metadata": {
      "needs_background": "light"
     },
     "output_type": "display_data"
    }
   ],
   "source": [
    "cabin_feature_select = train_df[['PassengerId', 'Pclass', 'Fare', 'Sex', 'CabinLocation']].copy()\n",
    "cabin_feature_select['CabinLocation'].replace('T', 'A', inplace = True)\n",
    "cabin_impute_nan = cabin_feature_select[cabin_feature_select['CabinLocation'] == \"0\"].copy()\n",
    "cabin_impute_train = cabin_feature_select[cabin_feature_select['CabinLocation'] != \"0\"].copy()\n",
    "X_cfs = cabin_impute_train.iloc[:,1:4]\n",
    "X_cfs = pd.get_dummies(X_cfs, columns = ['Pclass', 'Sex'])\n",
    "y_cfs = cabin_impute_train.iloc[:,4]\n",
    "\n",
    "from sklearn.ensemble import RandomForestClassifier\n",
    "clf = RandomForestClassifier(n_estimators=50, max_features='sqrt')\n",
    "clf = clf.fit(X_cfs, y_cfs)\n",
    "features = pd.DataFrame()\n",
    "features['feature'] = X_cfs.columns\n",
    "features['importance'] = clf.feature_importances_\n",
    "features.sort_values(by=['importance'], ascending=True, inplace=True)\n",
    "\n",
    "sns.catplot(x = 'feature', y = 'importance', aspect = 1.5, kind = 'bar', data = features)"
   ]
  },
  {
   "cell_type": "markdown",
   "metadata": {},
   "source": [
    "##### Cleaning - CabinLocation - Testing Feature Combination\n",
    "Cabin Locations, A, B and C are for First Class only. I will test a model with all the cabin locations and then with A, B and C grouped together."
   ]
  },
  {
   "cell_type": "code",
   "execution_count": 13,
   "metadata": {},
   "outputs": [
    {
     "name": "stdout",
     "output_type": "stream",
     "text": [
      "Non Grouped\n",
      "0.6274509803921569\n"
     ]
    }
   ],
   "source": [
    "X = cabin_impute_train.iloc[:,1:3]\n",
    "X = pd.get_dummies(X, columns = ['Pclass'])\n",
    "y = cabin_impute_train.iloc[:,4]\n",
    "# Split Data\n",
    "from sklearn.model_selection import train_test_split\n",
    "X_train, X_test, y_train, y_test = train_test_split(X, y, test_size = 0.25)\n",
    "# Train Random Forest\n",
    "from sklearn.ensemble import RandomForestClassifier\n",
    "rf_model = RandomForestClassifier(n_estimators=50, max_features='sqrt')\n",
    "rf_model = rf_model.fit(X_train, y_train)\n",
    "# Predict\n",
    "y_pred = rf_model.predict(X_test)\n",
    "# Confusion Matrix\n",
    "from sklearn.metrics import confusion_matrix, accuracy_score\n",
    "print(\"Non Grouped\")\n",
    "print(accuracy_score(y_test, y_pred))"
   ]
  },
  {
   "cell_type": "code",
   "execution_count": 14,
   "metadata": {},
   "outputs": [
    {
     "name": "stdout",
     "output_type": "stream",
     "text": [
      "Grouped\n",
      "0.7647058823529411\n"
     ]
    }
   ],
   "source": [
    "X = cabin_impute_train.iloc[:,1:3]\n",
    "X = pd.get_dummies(X, columns = ['Pclass'])\n",
    "y = cabin_impute_train.iloc[:,4]\n",
    "y.replace(['A', 'B', 'C'], '1', inplace = True)\n",
    "# Split Data\n",
    "from sklearn.model_selection import train_test_split\n",
    "X_train, X_test, y_train, y_test = train_test_split(X, y, test_size = 0.25)\n",
    "# Train Random Forest\n",
    "from sklearn.ensemble import RandomForestClassifier\n",
    "rf_model = RandomForestClassifier(n_estimators=5, max_features='sqrt')\n",
    "rf_model = rf_model.fit(X_train, y_train)\n",
    "# Predict\n",
    "y_pred = rf_model.predict(X_test)\n",
    "# Confusion Matrix\n",
    "from sklearn.metrics import confusion_matrix, accuracy_score\n",
    "print(\"Grouped\")\n",
    "print(accuracy_score(y_test, y_pred))"
   ]
  },
  {
   "cell_type": "code",
   "execution_count": 15,
   "metadata": {},
   "outputs": [],
   "source": [
    "from ipynb.fs.full.TitanicFunctions import fill_cabin_location\n",
    "# Fill Cabin Location\n",
    "train_df = fill_cabin_location(train_df)\n",
    "test_df = fill_cabin_location(test_df)"
   ]
  },
  {
   "cell_type": "markdown",
   "metadata": {},
   "source": [
    "**Cleaning Embarked** There is only 2 individuals that have data missing from 'Embarked', given the majority of peopel embarked at 'S' I will fill missings values with this."
   ]
  },
  {
   "cell_type": "code",
   "execution_count": 16,
   "metadata": {},
   "outputs": [
    {
     "data": {
      "text/plain": [
       "<matplotlib.axes._subplots.AxesSubplot at 0x2d21c551548>"
      ]
     },
     "execution_count": 16,
     "metadata": {},
     "output_type": "execute_result"
    },
    {
     "data": {
      "image/png": "[encoded data removed]",
      "text/plain": [
       "<Figure size 720x540 with 1 Axes>"
      ]
     },
     "metadata": {
      "needs_background": "light"
     },
     "output_type": "display_data"
    }
   ],
   "source": [
    "plt.figure(figsize = (10, 7.5))\n",
    "sns.countplot(x = 'Embarked', hue = 'Pclass', data = train_df)"
   ]
  },
  {
   "cell_type": "code",
   "execution_count": 17,
   "metadata": {},
   "outputs": [],
   "source": [
    "from ipynb.fs.full.TitanicFunctions import fill_embarked\n",
    "# Fill Embarked\n",
    "train_df = fill_embarked(train_df)"
   ]
  },
  {
   "cell_type": "code",
   "execution_count": 18,
   "metadata": {},
   "outputs": [
    {
     "name": "stdout",
     "output_type": "stream",
     "text": [
      "Training Dataset\n",
      "PassengerId      0\n",
      "Survived         0\n",
      "Pclass           0\n",
      "Name             0\n",
      "Sex              0\n",
      "Age              0\n",
      "SibSp            0\n",
      "Parch            0\n",
      "Ticket           0\n",
      "Fare             0\n",
      "Cabin            0\n",
      "Embarked         0\n",
      "Title            0\n",
      "CabinLocation    0\n",
      "dtype: int64\n",
      "Testing Dataset\n",
      "PassengerId      0\n",
      "Pclass           0\n",
      "Name             0\n",
      "Sex              0\n",
      "Age              0\n",
      "SibSp            0\n",
      "Parch            0\n",
      "Ticket           0\n",
      "Fare             0\n",
      "Cabin            0\n",
      "Embarked         0\n",
      "Title            0\n",
      "CabinLocation    0\n",
      "dtype: int64\n"
     ]
    }
   ],
   "source": [
    "print(\"Training Dataset\")\n",
    "print(train_df.isna().sum())\n",
    "print(\"Testing Dataset\")\n",
    "print(test_df.isna().sum())"
   ]
  },
  {
   "cell_type": "markdown",
   "metadata": {},
   "source": [
    "## Additional Feature Engineering\n",
    "To clean the dataset and fill the NaN values the feeatures Title & CabinLocation. Their are additonal features that can be created/extracted from the original set of features that will provide more usable information."
   ]
  },
  {
   "cell_type": "markdown",
   "metadata": {},
   "source": [
    "**FamilyMembers** the features Parch & SibSp can be combined to calcualte how many family members the individual is travelling with."
   ]
  },
  {
   "cell_type": "code",
   "execution_count": 19,
   "metadata": {},
   "outputs": [
    {
     "data": {
      "text/plain": [
       "<matplotlib.axes._subplots.AxesSubplot at 0x2d21cc38848>"
      ]
     },
     "execution_count": 19,
     "metadata": {},
     "output_type": "execute_result"
    },
    {
     "data": {
      "image/png": "[encoded data removed]",
      "text/plain": [
       "<Figure size 720x540 with 1 Axes>"
      ]
     },
     "metadata": {
      "needs_background": "light"
     },
     "output_type": "display_data"
    }
   ],
   "source": [
    "from ipynb.fs.full.TitanicFunctions import engineer_family_members\n",
    "train_df = engineer_family_members(train_df)\n",
    "test_df = engineer_family_members(test_df)\n",
    "plt.figure(figsize = (10, 7.5))\n",
    "sns.countplot(x = 'FamilyMembers', data = train_df)"
   ]
  },
  {
   "cell_type": "markdown",
   "metadata": {},
   "source": [
    "**FamilyClassification** I can use FamilyMembers to classify the size of family and reduce the possible number of values for this feature. The classification will be 1 = Single, 2-3 = SmallFamily >3 = LargeFamily."
   ]
  },
  {
   "cell_type": "code",
   "execution_count": 20,
   "metadata": {},
   "outputs": [
    {
     "data": {
      "text/plain": [
       "<matplotlib.axes._subplots.AxesSubplot at 0x2d21c4b52c8>"
      ]
     },
     "execution_count": 20,
     "metadata": {},
     "output_type": "execute_result"
    },
    {
     "data": {
      "image/png": "[encoded data removed]",
      "text/plain": [
       "<Figure size 720x540 with 1 Axes>"
      ]
     },
     "metadata": {
      "needs_background": "light"
     },
     "output_type": "display_data"
    }
   ],
   "source": [
    "from ipynb.fs.full.TitanicFunctions import engineer_family_classification\n",
    "train_df = engineer_family_classification(train_df)\n",
    "test_df = engineer_family_classification(test_df)\n",
    "plt.figure(figsize = (10, 7.5))\n",
    "sns.countplot(x = 'FamilyClassification', data = train_df)"
   ]
  },
  {
   "cell_type": "markdown",
   "metadata": {},
   "source": [
    "**AgeCat** I can combine the classifcation of gender and a classification of age group into one feature. <12 = Child, 13-18 = Teenager >18 = Adult."
   ]
  },
  {
   "cell_type": "code",
   "execution_count": 21,
   "metadata": {},
   "outputs": [
    {
     "data": {
      "text/plain": [
       "<matplotlib.axes._subplots.AxesSubplot at 0x2d21cc32bc8>"
      ]
     },
     "execution_count": 21,
     "metadata": {},
     "output_type": "execute_result"
    },
    {
     "data": {
      "image/png": "[encoded data removed]",
      "text/plain": [
       "<Figure size 720x540 with 1 Axes>"
      ]
     },
     "metadata": {
      "needs_background": "light"
     },
     "output_type": "display_data"
    }
   ],
   "source": [
    "from ipynb.fs.full.TitanicFunctions import engineer_age_cat\n",
    "train_df = engineer_age_cat(train_df)\n",
    "test_df = engineer_age_cat(test_df)\n",
    "plt.figure(figsize = (10, 7.5))\n",
    "sns.countplot(x = 'AgeCat', data = train_df)"
   ]
  },
  {
   "cell_type": "code",
   "execution_count": 22,
   "metadata": {},
   "outputs": [
    {
     "data": {
      "text/html": [
       "<div>\n",
       "<style scoped>\n",
       "    .dataframe tbody tr th:only-of-type {\n",
       "        vertical-align: middle;\n",
       "    }\n",
       "\n",
       "    .dataframe tbody tr th {\n",
       "        vertical-align: top;\n",
       "    }\n",
       "\n",
       "    .dataframe thead th {\n",
       "        text-align: right;\n",
       "    }\n",
       "</style>\n",
       "<table border=\"1\" class=\"dataframe\">\n",
       "  <thead>\n",
       "    <tr style=\"text-align: right;\">\n",
       "      <th></th>\n",
       "      <th>PassengerId</th>\n",
       "      <th>Survived</th>\n",
       "      <th>Pclass</th>\n",
       "      <th>Name</th>\n",
       "      <th>Sex</th>\n",
       "      <th>Age</th>\n",
       "      <th>SibSp</th>\n",
       "      <th>Parch</th>\n",
       "      <th>Ticket</th>\n",
       "      <th>Fare</th>\n",
       "      <th>Cabin</th>\n",
       "      <th>Embarked</th>\n",
       "      <th>Title</th>\n",
       "      <th>CabinLocation</th>\n",
       "      <th>FamilyMembers</th>\n",
       "      <th>FamilyClassification</th>\n",
       "      <th>AgeCat</th>\n",
       "    </tr>\n",
       "  </thead>\n",
       "  <tbody>\n",
       "    <tr>\n",
       "      <th>576</th>\n",
       "      <td>577</td>\n",
       "      <td>1</td>\n",
       "      <td>2</td>\n",
       "      <td>Garside, Miss. Ethel</td>\n",
       "      <td>female</td>\n",
       "      <td>34.0</td>\n",
       "      <td>0</td>\n",
       "      <td>0</td>\n",
       "      <td>243880</td>\n",
       "      <td>13.000</td>\n",
       "      <td>0</td>\n",
       "      <td>S</td>\n",
       "      <td>Miss.</td>\n",
       "      <td>E</td>\n",
       "      <td>1</td>\n",
       "      <td>Single</td>\n",
       "      <td>adult female</td>\n",
       "    </tr>\n",
       "    <tr>\n",
       "      <th>123</th>\n",
       "      <td>124</td>\n",
       "      <td>1</td>\n",
       "      <td>2</td>\n",
       "      <td>Webber, Miss. Susan</td>\n",
       "      <td>female</td>\n",
       "      <td>32.5</td>\n",
       "      <td>0</td>\n",
       "      <td>0</td>\n",
       "      <td>27267</td>\n",
       "      <td>13.000</td>\n",
       "      <td>E101</td>\n",
       "      <td>S</td>\n",
       "      <td>Miss.</td>\n",
       "      <td>E</td>\n",
       "      <td>1</td>\n",
       "      <td>Single</td>\n",
       "      <td>adult female</td>\n",
       "    </tr>\n",
       "    <tr>\n",
       "      <th>520</th>\n",
       "      <td>521</td>\n",
       "      <td>1</td>\n",
       "      <td>1</td>\n",
       "      <td>Perreault, Miss. Anne</td>\n",
       "      <td>female</td>\n",
       "      <td>30.0</td>\n",
       "      <td>0</td>\n",
       "      <td>0</td>\n",
       "      <td>12749</td>\n",
       "      <td>93.500</td>\n",
       "      <td>B73</td>\n",
       "      <td>S</td>\n",
       "      <td>Miss.</td>\n",
       "      <td>ABC</td>\n",
       "      <td>1</td>\n",
       "      <td>Single</td>\n",
       "      <td>adult female</td>\n",
       "    </tr>\n",
       "    <tr>\n",
       "      <th>604</th>\n",
       "      <td>605</td>\n",
       "      <td>1</td>\n",
       "      <td>1</td>\n",
       "      <td>Homer, Mr. Harry (\"Mr E Haven\")</td>\n",
       "      <td>male</td>\n",
       "      <td>35.0</td>\n",
       "      <td>0</td>\n",
       "      <td>0</td>\n",
       "      <td>111426</td>\n",
       "      <td>26.550</td>\n",
       "      <td>0</td>\n",
       "      <td>C</td>\n",
       "      <td>Mr.</td>\n",
       "      <td>ABC</td>\n",
       "      <td>1</td>\n",
       "      <td>Single</td>\n",
       "      <td>adult male</td>\n",
       "    </tr>\n",
       "    <tr>\n",
       "      <th>554</th>\n",
       "      <td>555</td>\n",
       "      <td>1</td>\n",
       "      <td>3</td>\n",
       "      <td>Ohman, Miss. Velin</td>\n",
       "      <td>female</td>\n",
       "      <td>22.0</td>\n",
       "      <td>0</td>\n",
       "      <td>0</td>\n",
       "      <td>347085</td>\n",
       "      <td>7.775</td>\n",
       "      <td>0</td>\n",
       "      <td>S</td>\n",
       "      <td>Miss.</td>\n",
       "      <td>F</td>\n",
       "      <td>1</td>\n",
       "      <td>Single</td>\n",
       "      <td>adult female</td>\n",
       "    </tr>\n",
       "  </tbody>\n",
       "</table>\n",
       "</div>"
      ],
      "text/plain": [
       "     PassengerId  Survived  Pclass                             Name     Sex  \\\n",
       "576          577         1       2             Garside, Miss. Ethel  female   \n",
       "123          124         1       2              Webber, Miss. Susan  female   \n",
       "520          521         1       1            Perreault, Miss. Anne  female   \n",
       "604          605         1       1  Homer, Mr. Harry (\"Mr E Haven\")    male   \n",
       "554          555         1       3               Ohman, Miss. Velin  female   \n",
       "\n",
       "      Age  SibSp  Parch  Ticket    Fare Cabin Embarked  Title CabinLocation  \\\n",
       "576  34.0      0      0  243880  13.000     0        S  Miss.             E   \n",
       "123  32.5      0      0   27267  13.000  E101        S  Miss.             E   \n",
       "520  30.0      0      0   12749  93.500   B73        S  Miss.           ABC   \n",
       "604  35.0      0      0  111426  26.550     0        C    Mr.           ABC   \n",
       "554  22.0      0      0  347085   7.775     0        S  Miss.             F   \n",
       "\n",
       "     FamilyMembers FamilyClassification        AgeCat  \n",
       "576              1               Single  adult female  \n",
       "123              1               Single  adult female  \n",
       "520              1               Single  adult female  \n",
       "604              1               Single    adult male  \n",
       "554              1               Single  adult female  "
      ]
     },
     "execution_count": 22,
     "metadata": {},
     "output_type": "execute_result"
    }
   ],
   "source": [
    "train_df.sample(5)"
   ]
  },
  {
   "cell_type": "markdown",
   "metadata": {},
   "source": [
    "## Model Testing\n",
    "I will test different models to see which one best suits.\n",
    "### Setup Pipeline"
   ]
  },
  {
   "cell_type": "code",
   "execution_count": 23,
   "metadata": {},
   "outputs": [
    {
     "data": {
      "text/html": [
       "<div>\n",
       "<style scoped>\n",
       "    .dataframe tbody tr th:only-of-type {\n",
       "        vertical-align: middle;\n",
       "    }\n",
       "\n",
       "    .dataframe tbody tr th {\n",
       "        vertical-align: top;\n",
       "    }\n",
       "\n",
       "    .dataframe thead th {\n",
       "        text-align: right;\n",
       "    }\n",
       "</style>\n",
       "<table border=\"1\" class=\"dataframe\">\n",
       "  <thead>\n",
       "    <tr style=\"text-align: right;\">\n",
       "      <th></th>\n",
       "      <th>PassengerId</th>\n",
       "      <th>Survived</th>\n",
       "      <th>Pclass</th>\n",
       "      <th>Name</th>\n",
       "      <th>Sex</th>\n",
       "      <th>Age</th>\n",
       "      <th>SibSp</th>\n",
       "      <th>Parch</th>\n",
       "      <th>Ticket</th>\n",
       "      <th>Fare</th>\n",
       "      <th>Cabin</th>\n",
       "      <th>Embarked</th>\n",
       "      <th>Title</th>\n",
       "      <th>CabinLocation</th>\n",
       "      <th>FamilyMembers</th>\n",
       "      <th>FamilyClassification</th>\n",
       "      <th>AgeCat</th>\n",
       "    </tr>\n",
       "  </thead>\n",
       "  <tbody>\n",
       "    <tr>\n",
       "      <th>1</th>\n",
       "      <td>2</td>\n",
       "      <td>1</td>\n",
       "      <td>1</td>\n",
       "      <td>Cumings, Mrs. John Bradley (Florence Briggs Th...</td>\n",
       "      <td>female</td>\n",
       "      <td>38.000000</td>\n",
       "      <td>1</td>\n",
       "      <td>0</td>\n",
       "      <td>PC 17599</td>\n",
       "      <td>71.2833</td>\n",
       "      <td>C85</td>\n",
       "      <td>C</td>\n",
       "      <td>Mrs.</td>\n",
       "      <td>ABC</td>\n",
       "      <td>2</td>\n",
       "      <td>SmallFamily</td>\n",
       "      <td>adult female</td>\n",
       "    </tr>\n",
       "    <tr>\n",
       "      <th>3</th>\n",
       "      <td>4</td>\n",
       "      <td>1</td>\n",
       "      <td>1</td>\n",
       "      <td>Futrelle, Mrs. Jacques Heath (Lily May Peel)</td>\n",
       "      <td>female</td>\n",
       "      <td>35.000000</td>\n",
       "      <td>1</td>\n",
       "      <td>0</td>\n",
       "      <td>113803</td>\n",
       "      <td>53.1000</td>\n",
       "      <td>C123</td>\n",
       "      <td>S</td>\n",
       "      <td>Mrs.</td>\n",
       "      <td>ABC</td>\n",
       "      <td>2</td>\n",
       "      <td>SmallFamily</td>\n",
       "      <td>adult female</td>\n",
       "    </tr>\n",
       "    <tr>\n",
       "      <th>6</th>\n",
       "      <td>7</td>\n",
       "      <td>0</td>\n",
       "      <td>1</td>\n",
       "      <td>McCarthy, Mr. Timothy J</td>\n",
       "      <td>male</td>\n",
       "      <td>54.000000</td>\n",
       "      <td>0</td>\n",
       "      <td>0</td>\n",
       "      <td>17463</td>\n",
       "      <td>51.8625</td>\n",
       "      <td>E46</td>\n",
       "      <td>S</td>\n",
       "      <td>Mr.</td>\n",
       "      <td>E</td>\n",
       "      <td>1</td>\n",
       "      <td>Single</td>\n",
       "      <td>adult male</td>\n",
       "    </tr>\n",
       "    <tr>\n",
       "      <th>10</th>\n",
       "      <td>11</td>\n",
       "      <td>1</td>\n",
       "      <td>3</td>\n",
       "      <td>Sandstrom, Miss. Marguerite Rut</td>\n",
       "      <td>female</td>\n",
       "      <td>4.000000</td>\n",
       "      <td>1</td>\n",
       "      <td>1</td>\n",
       "      <td>PP 9549</td>\n",
       "      <td>16.7000</td>\n",
       "      <td>G6</td>\n",
       "      <td>S</td>\n",
       "      <td>Miss.</td>\n",
       "      <td>G</td>\n",
       "      <td>3</td>\n",
       "      <td>SmallFamily</td>\n",
       "      <td>child female</td>\n",
       "    </tr>\n",
       "    <tr>\n",
       "      <th>11</th>\n",
       "      <td>12</td>\n",
       "      <td>1</td>\n",
       "      <td>1</td>\n",
       "      <td>Bonnell, Miss. Elizabeth</td>\n",
       "      <td>female</td>\n",
       "      <td>58.000000</td>\n",
       "      <td>0</td>\n",
       "      <td>0</td>\n",
       "      <td>113783</td>\n",
       "      <td>26.5500</td>\n",
       "      <td>C103</td>\n",
       "      <td>S</td>\n",
       "      <td>Miss.</td>\n",
       "      <td>ABC</td>\n",
       "      <td>1</td>\n",
       "      <td>Single</td>\n",
       "      <td>adult female</td>\n",
       "    </tr>\n",
       "    <tr>\n",
       "      <th>...</th>\n",
       "      <td>...</td>\n",
       "      <td>...</td>\n",
       "      <td>...</td>\n",
       "      <td>...</td>\n",
       "      <td>...</td>\n",
       "      <td>...</td>\n",
       "      <td>...</td>\n",
       "      <td>...</td>\n",
       "      <td>...</td>\n",
       "      <td>...</td>\n",
       "      <td>...</td>\n",
       "      <td>...</td>\n",
       "      <td>...</td>\n",
       "      <td>...</td>\n",
       "      <td>...</td>\n",
       "      <td>...</td>\n",
       "      <td>...</td>\n",
       "    </tr>\n",
       "    <tr>\n",
       "      <th>884</th>\n",
       "      <td>885</td>\n",
       "      <td>0</td>\n",
       "      <td>3</td>\n",
       "      <td>Sutehall, Mr. Henry Jr</td>\n",
       "      <td>male</td>\n",
       "      <td>25.000000</td>\n",
       "      <td>0</td>\n",
       "      <td>0</td>\n",
       "      <td>SOTON/OQ 392076</td>\n",
       "      <td>7.0500</td>\n",
       "      <td>0</td>\n",
       "      <td>S</td>\n",
       "      <td>Mr.</td>\n",
       "      <td>F</td>\n",
       "      <td>1</td>\n",
       "      <td>Single</td>\n",
       "      <td>adult male</td>\n",
       "    </tr>\n",
       "    <tr>\n",
       "      <th>885</th>\n",
       "      <td>886</td>\n",
       "      <td>0</td>\n",
       "      <td>3</td>\n",
       "      <td>Rice, Mrs. William (Margaret Norton)</td>\n",
       "      <td>female</td>\n",
       "      <td>39.000000</td>\n",
       "      <td>0</td>\n",
       "      <td>5</td>\n",
       "      <td>382652</td>\n",
       "      <td>29.1250</td>\n",
       "      <td>0</td>\n",
       "      <td>Q</td>\n",
       "      <td>Mrs.</td>\n",
       "      <td>ABC</td>\n",
       "      <td>6</td>\n",
       "      <td>LargeFamily</td>\n",
       "      <td>adult female</td>\n",
       "    </tr>\n",
       "    <tr>\n",
       "      <th>886</th>\n",
       "      <td>887</td>\n",
       "      <td>0</td>\n",
       "      <td>2</td>\n",
       "      <td>Montvila, Rev. Juozas</td>\n",
       "      <td>male</td>\n",
       "      <td>27.000000</td>\n",
       "      <td>0</td>\n",
       "      <td>0</td>\n",
       "      <td>211536</td>\n",
       "      <td>13.0000</td>\n",
       "      <td>0</td>\n",
       "      <td>S</td>\n",
       "      <td>Rev.</td>\n",
       "      <td>E</td>\n",
       "      <td>1</td>\n",
       "      <td>Single</td>\n",
       "      <td>adult male</td>\n",
       "    </tr>\n",
       "    <tr>\n",
       "      <th>888</th>\n",
       "      <td>889</td>\n",
       "      <td>0</td>\n",
       "      <td>3</td>\n",
       "      <td>Johnston, Miss. Catherine Helen \"Carrie\"</td>\n",
       "      <td>female</td>\n",
       "      <td>21.773973</td>\n",
       "      <td>1</td>\n",
       "      <td>2</td>\n",
       "      <td>W./C. 6607</td>\n",
       "      <td>23.4500</td>\n",
       "      <td>0</td>\n",
       "      <td>S</td>\n",
       "      <td>Miss.</td>\n",
       "      <td>F</td>\n",
       "      <td>4</td>\n",
       "      <td>LargeFamily</td>\n",
       "      <td>adult female</td>\n",
       "    </tr>\n",
       "    <tr>\n",
       "      <th>890</th>\n",
       "      <td>891</td>\n",
       "      <td>0</td>\n",
       "      <td>3</td>\n",
       "      <td>Dooley, Mr. Patrick</td>\n",
       "      <td>male</td>\n",
       "      <td>32.000000</td>\n",
       "      <td>0</td>\n",
       "      <td>0</td>\n",
       "      <td>370376</td>\n",
       "      <td>7.7500</td>\n",
       "      <td>0</td>\n",
       "      <td>Q</td>\n",
       "      <td>Mr.</td>\n",
       "      <td>F</td>\n",
       "      <td>1</td>\n",
       "      <td>Single</td>\n",
       "      <td>adult male</td>\n",
       "    </tr>\n",
       "  </tbody>\n",
       "</table>\n",
       "<p>891 rows × 17 columns</p>\n",
       "</div>"
      ],
      "text/plain": [
       "     PassengerId  Survived  Pclass  \\\n",
       "1              2         1       1   \n",
       "3              4         1       1   \n",
       "6              7         0       1   \n",
       "10            11         1       3   \n",
       "11            12         1       1   \n",
       "..           ...       ...     ...   \n",
       "884          885         0       3   \n",
       "885          886         0       3   \n",
       "886          887         0       2   \n",
       "888          889         0       3   \n",
       "890          891         0       3   \n",
       "\n",
       "                                                  Name     Sex        Age  \\\n",
       "1    Cumings, Mrs. John Bradley (Florence Briggs Th...  female  38.000000   \n",
       "3         Futrelle, Mrs. Jacques Heath (Lily May Peel)  female  35.000000   \n",
       "6                              McCarthy, Mr. Timothy J    male  54.000000   \n",
       "10                     Sandstrom, Miss. Marguerite Rut  female   4.000000   \n",
       "11                            Bonnell, Miss. Elizabeth  female  58.000000   \n",
       "..                                                 ...     ...        ...   \n",
       "884                             Sutehall, Mr. Henry Jr    male  25.000000   \n",
       "885               Rice, Mrs. William (Margaret Norton)  female  39.000000   \n",
       "886                              Montvila, Rev. Juozas    male  27.000000   \n",
       "888           Johnston, Miss. Catherine Helen \"Carrie\"  female  21.773973   \n",
       "890                                Dooley, Mr. Patrick    male  32.000000   \n",
       "\n",
       "     SibSp  Parch           Ticket     Fare Cabin Embarked  Title  \\\n",
       "1        1      0         PC 17599  71.2833   C85        C   Mrs.   \n",
       "3        1      0           113803  53.1000  C123        S   Mrs.   \n",
       "6        0      0            17463  51.8625   E46        S    Mr.   \n",
       "10       1      1          PP 9549  16.7000    G6        S  Miss.   \n",
       "11       0      0           113783  26.5500  C103        S  Miss.   \n",
       "..     ...    ...              ...      ...   ...      ...    ...   \n",
       "884      0      0  SOTON/OQ 392076   7.0500     0        S    Mr.   \n",
       "885      0      5           382652  29.1250     0        Q   Mrs.   \n",
       "886      0      0           211536  13.0000     0        S   Rev.   \n",
       "888      1      2       W./C. 6607  23.4500     0        S  Miss.   \n",
       "890      0      0           370376   7.7500     0        Q    Mr.   \n",
       "\n",
       "    CabinLocation  FamilyMembers FamilyClassification        AgeCat  \n",
       "1             ABC              2          SmallFamily  adult female  \n",
       "3             ABC              2          SmallFamily  adult female  \n",
       "6               E              1               Single    adult male  \n",
       "10              G              3          SmallFamily  child female  \n",
       "11            ABC              1               Single  adult female  \n",
       "..            ...            ...                  ...           ...  \n",
       "884             F              1               Single    adult male  \n",
       "885           ABC              6          LargeFamily  adult female  \n",
       "886             E              1               Single    adult male  \n",
       "888             F              4          LargeFamily  adult female  \n",
       "890             F              1               Single    adult male  \n",
       "\n",
       "[891 rows x 17 columns]"
      ]
     },
     "execution_count": 23,
     "metadata": {},
     "output_type": "execute_result"
    }
   ],
   "source": [
    "train_df"
   ]
  },
  {
   "cell_type": "code",
   "execution_count": 24,
   "metadata": {},
   "outputs": [],
   "source": [
    "from sklearn.compose import ColumnTransformer\n",
    "from sklearn.pipeline import Pipeline\n",
    "from sklearn.preprocessing import StandardScaler, OneHotEncoder\n",
    "from sklearn.model_selection import train_test_split\n",
    "from sklearn.linear_model import LogisticRegression\n",
    "from xgboost import XGBClassifier\n",
    "from sklearn.metrics import confusion_matrix, accuracy_score\n",
    "from sklearn.inspection import permutation_importance\n",
    "\n",
    "# Split Target y\n",
    "full_X = train_df.iloc[:,2:]\n",
    "full_X.drop(columns = ['Name', 'Ticket', 'Cabin'], inplace = True)\n",
    "y = train_df.iloc[:,1].values\n",
    "# Preprocessing Pipelines for Both Numeric and Categorical data\n",
    "numeric_features = ['Age', 'Fare']\n",
    "numeric_transformer = Pipeline(steps=[('scaler', StandardScaler())])\n",
    "categorical_features = ['Pclass', 'Sex', 'Embarked', 'Title', 'CabinLocation', 'FamilyClassification', 'AgeCat']\n",
    "categorical_transformer = Pipeline(steps=[('onehot', OneHotEncoder(handle_unknown='ignore'))])\n",
    "# Preprocessor\n",
    "preprocessor = ColumnTransformer(\n",
    "    transformers=[('num', numeric_transformer, numeric_features),\n",
    "                  ('cat', categorical_transformer, categorical_features)])\n",
    "\n",
    "# Preprocess Data\n",
    "full_X = preprocessor.fit_transform(full_X)\n",
    "\n",
    "# Split Datasets\n",
    "X_train, X_test, y_train, y_test = train_test_split(full_X, y, test_size=0.2)\n",
    "\n",
    "# Setup Classifiers to Train\n",
    "# Random Forest\n",
    "rf_classifier = Pipeline(steps=[\n",
    "                      ('classifier', RandomForestClassifier())])\n",
    "rf_sub_classifier = Pipeline(steps=[\n",
    "                      ('classifier', RandomForestClassifier())])\n",
    "# Logistic Regression\n",
    "lg_classifier = Pipeline(steps=[\n",
    "                      ('classifier', LogisticRegression())])\n",
    "lg_sub_classifier = Pipeline(steps=[\n",
    "                      ('classifier', LogisticRegression())])\n",
    "# XGBoost \n",
    "xg_classifier = Pipeline(steps=[\n",
    "                      ('classifier', XGBClassifier())])\n",
    "xg_sub_classifier = Pipeline(steps=[\n",
    "                      ('classifier', XGBClassifier())])"
   ]
  },
  {
   "cell_type": "code",
   "execution_count": 25,
   "metadata": {},
   "outputs": [
    {
     "data": {
      "text/plain": [
       "<712x41 sparse matrix of type '<class 'numpy.float64'>'\n",
       "\twith 6408 stored elements in Compressed Sparse Row format>"
      ]
     },
     "execution_count": 25,
     "metadata": {},
     "output_type": "execute_result"
    }
   ],
   "source": [
    "X_train"
   ]
  },
  {
   "cell_type": "markdown",
   "metadata": {},
   "source": [
    "### Feature Analysis \n",
    "High level feature analysis from a Random Forest model for a high level understanding of how the features impact the model.\n",
    "#### Setup"
   ]
  },
  {
   "cell_type": "code",
   "execution_count": 26,
   "metadata": {},
   "outputs": [],
   "source": [
    "rf_classifier.fit(X_train, y_train)\n",
    "\n",
    "ohe = (preprocessor.named_transformers_['cat']\n",
    "      .named_steps['onehot'])\n",
    "\n",
    "feature_names = ohe.get_feature_names(input_features = categorical_features)\n",
    "feature_names = np.r_[numeric_features, feature_names]"
   ]
  },
  {
   "cell_type": "markdown",
   "metadata": {},
   "source": [
    "#### Tree feature importance from Mean Decrease in Impurity (MDI)\n",
    "The impurity-based feature importance ranks the numerical features to be the most important features, this is because impurity-based importances are biased towards high cardinality features."
   ]
  },
  {
   "cell_type": "code",
   "execution_count": 27,
   "metadata": {},
   "outputs": [
    {
     "data": {
      "text/plain": [
       "<seaborn.axisgrid.FacetGrid at 0x2d21ee82ec8>"
      ]
     },
     "execution_count": 27,
     "metadata": {},
     "output_type": "execute_result"
    },
    {
     "data": {
      "image/png": "[encoded data removed]",
      "text/plain": [
       "<Figure size 1080x720 with 1 Axes>"
      ]
     },
     "metadata": {
      "needs_background": "light"
     },
     "output_type": "display_data"
    }
   ],
   "source": [
    "features = pd.DataFrame()\n",
    "features['feature'] = feature_names\n",
    "features['importance'] = rf_classifier.named_steps['classifier'].feature_importances_\n",
    "features.sort_values(by=['importance'], ascending=True, inplace=True)\n",
    "\n",
    "sns.catplot(y = 'feature', x = 'importance', aspect = 1.5, kind = 'bar', orient = 'h', height = 10, data = features)"
   ]
  },
  {
   "cell_type": "markdown",
   "metadata": {},
   "source": [
    "#### Permutation Importance\n",
    "The permutation importance test does not have a bias towards numerical features. It does this by randomly shuffling a single column of the validation data and calculating how it affects the accuracy of the prediction."
   ]
  },
  {
   "cell_type": "code",
   "execution_count": 28,
   "metadata": {},
   "outputs": [
    {
     "data": {
      "text/plain": [
       "<seaborn.axisgrid.FacetGrid at 0x2d21f3994c8>"
      ]
     },
     "execution_count": 28,
     "metadata": {},
     "output_type": "execute_result"
    },
    {
     "data": {
      "image/png": "[encoded data removed]",
      "text/plain": [
       "<Figure size 1080x720 with 1 Axes>"
      ]
     },
     "metadata": {
      "needs_background": "light"
     },
     "output_type": "display_data"
    }
   ],
   "source": [
    "result = permutation_importance(rf_classifier, X_test.toarray(), y_test, n_jobs = 2, n_repeats = 10)\n",
    "\n",
    "pi_features = pd.DataFrame()\n",
    "pi_features['feature'] = feature_names\n",
    "pi_features['importance'] = result.importances_mean\n",
    "pi_features.sort_values(by=['importance'], ascending=True, inplace=True)\n",
    "\n",
    "sns.catplot(y = 'feature', x = 'importance', aspect = 1.5, kind = 'bar', orient = 'h', height = 10, data = pi_features)"
   ]
  },
  {
   "cell_type": "markdown",
   "metadata": {},
   "source": [
    "The permutartion importance shows a clearer picture of features that impact the outcome of the random forest classifier, one point to note is this dataset is small so there could be a large bias in features due to how the train/test split was performed. But I will remove features deemed to be 'polluting' and test the models on a full and subset of featrues.\n",
    "\n",
    "**Features to remove:**\n",
    "\n",
    "**Title** - This feature is poliluting the model, I suspect that this may be down to the vast number of different possible Titles among the passengers. Also this feature was engineered to get a more accurate Age imputation.\n",
    "\n",
    "**Fare** - This feature is consistently negative for permutation importance, this implies that randomly changing these values made the prediction more accurate and the model is not incorporating this feature properly.\n",
    "\n",
    "**Embarked** - All locations of Embarkement rank low in both tests."
   ]
  },
  {
   "cell_type": "code",
   "execution_count": 29,
   "metadata": {},
   "outputs": [
    {
     "data": {
      "text/html": [
       "<div>\n",
       "<style scoped>\n",
       "    .dataframe tbody tr th:only-of-type {\n",
       "        vertical-align: middle;\n",
       "    }\n",
       "\n",
       "    .dataframe tbody tr th {\n",
       "        vertical-align: top;\n",
       "    }\n",
       "\n",
       "    .dataframe thead th {\n",
       "        text-align: right;\n",
       "    }\n",
       "</style>\n",
       "<table border=\"1\" class=\"dataframe\">\n",
       "  <thead>\n",
       "    <tr style=\"text-align: right;\">\n",
       "      <th></th>\n",
       "      <th>Age</th>\n",
       "      <th>Pclass_1</th>\n",
       "      <th>Pclass_2</th>\n",
       "      <th>Pclass_3</th>\n",
       "      <th>Sex_female</th>\n",
       "      <th>Sex_male</th>\n",
       "      <th>FamilyClassification_LargeFamily</th>\n",
       "      <th>FamilyClassification_Single</th>\n",
       "      <th>FamilyClassification_SmallFamily</th>\n",
       "      <th>AgeCat_adult female</th>\n",
       "      <th>AgeCat_adult male</th>\n",
       "      <th>AgeCat_child female</th>\n",
       "      <th>AgeCat_child male</th>\n",
       "      <th>AgeCat_teenager female</th>\n",
       "      <th>AgeCat_teenager male</th>\n",
       "    </tr>\n",
       "  </thead>\n",
       "  <tbody>\n",
       "    <tr>\n",
       "      <th>0</th>\n",
       "      <td>-0.358227</td>\n",
       "      <td>0.0</td>\n",
       "      <td>1.0</td>\n",
       "      <td>0.0</td>\n",
       "      <td>1.0</td>\n",
       "      <td>0.0</td>\n",
       "      <td>0.0</td>\n",
       "      <td>0.0</td>\n",
       "      <td>1.0</td>\n",
       "      <td>1.0</td>\n",
       "      <td>0.0</td>\n",
       "      <td>0.0</td>\n",
       "      <td>0.0</td>\n",
       "      <td>0.0</td>\n",
       "      <td>0.0</td>\n",
       "    </tr>\n",
       "    <tr>\n",
       "      <th>1</th>\n",
       "      <td>0.470813</td>\n",
       "      <td>1.0</td>\n",
       "      <td>0.0</td>\n",
       "      <td>0.0</td>\n",
       "      <td>0.0</td>\n",
       "      <td>1.0</td>\n",
       "      <td>0.0</td>\n",
       "      <td>1.0</td>\n",
       "      <td>0.0</td>\n",
       "      <td>0.0</td>\n",
       "      <td>1.0</td>\n",
       "      <td>0.0</td>\n",
       "      <td>0.0</td>\n",
       "      <td>0.0</td>\n",
       "      <td>0.0</td>\n",
       "    </tr>\n",
       "    <tr>\n",
       "      <th>2</th>\n",
       "      <td>0.197086</td>\n",
       "      <td>0.0</td>\n",
       "      <td>0.0</td>\n",
       "      <td>1.0</td>\n",
       "      <td>0.0</td>\n",
       "      <td>1.0</td>\n",
       "      <td>0.0</td>\n",
       "      <td>1.0</td>\n",
       "      <td>0.0</td>\n",
       "      <td>0.0</td>\n",
       "      <td>1.0</td>\n",
       "      <td>0.0</td>\n",
       "      <td>0.0</td>\n",
       "      <td>0.0</td>\n",
       "      <td>0.0</td>\n",
       "    </tr>\n",
       "    <tr>\n",
       "      <th>3</th>\n",
       "      <td>-0.810431</td>\n",
       "      <td>0.0</td>\n",
       "      <td>1.0</td>\n",
       "      <td>0.0</td>\n",
       "      <td>1.0</td>\n",
       "      <td>0.0</td>\n",
       "      <td>0.0</td>\n",
       "      <td>0.0</td>\n",
       "      <td>1.0</td>\n",
       "      <td>1.0</td>\n",
       "      <td>0.0</td>\n",
       "      <td>0.0</td>\n",
       "      <td>0.0</td>\n",
       "      <td>0.0</td>\n",
       "      <td>0.0</td>\n",
       "    </tr>\n",
       "    <tr>\n",
       "      <th>4</th>\n",
       "      <td>-1.564104</td>\n",
       "      <td>0.0</td>\n",
       "      <td>0.0</td>\n",
       "      <td>1.0</td>\n",
       "      <td>0.0</td>\n",
       "      <td>1.0</td>\n",
       "      <td>0.0</td>\n",
       "      <td>0.0</td>\n",
       "      <td>1.0</td>\n",
       "      <td>0.0</td>\n",
       "      <td>0.0</td>\n",
       "      <td>0.0</td>\n",
       "      <td>1.0</td>\n",
       "      <td>0.0</td>\n",
       "      <td>0.0</td>\n",
       "    </tr>\n",
       "    <tr>\n",
       "      <th>...</th>\n",
       "      <td>...</td>\n",
       "      <td>...</td>\n",
       "      <td>...</td>\n",
       "      <td>...</td>\n",
       "      <td>...</td>\n",
       "      <td>...</td>\n",
       "      <td>...</td>\n",
       "      <td>...</td>\n",
       "      <td>...</td>\n",
       "      <td>...</td>\n",
       "      <td>...</td>\n",
       "      <td>...</td>\n",
       "      <td>...</td>\n",
       "      <td>...</td>\n",
       "      <td>...</td>\n",
       "    </tr>\n",
       "    <tr>\n",
       "      <th>174</th>\n",
       "      <td>-0.282860</td>\n",
       "      <td>0.0</td>\n",
       "      <td>0.0</td>\n",
       "      <td>1.0</td>\n",
       "      <td>1.0</td>\n",
       "      <td>0.0</td>\n",
       "      <td>0.0</td>\n",
       "      <td>1.0</td>\n",
       "      <td>0.0</td>\n",
       "      <td>1.0</td>\n",
       "      <td>0.0</td>\n",
       "      <td>0.0</td>\n",
       "      <td>0.0</td>\n",
       "      <td>0.0</td>\n",
       "      <td>0.0</td>\n",
       "    </tr>\n",
       "    <tr>\n",
       "      <th>175</th>\n",
       "      <td>-0.584329</td>\n",
       "      <td>1.0</td>\n",
       "      <td>0.0</td>\n",
       "      <td>0.0</td>\n",
       "      <td>1.0</td>\n",
       "      <td>0.0</td>\n",
       "      <td>0.0</td>\n",
       "      <td>0.0</td>\n",
       "      <td>1.0</td>\n",
       "      <td>1.0</td>\n",
       "      <td>0.0</td>\n",
       "      <td>0.0</td>\n",
       "      <td>0.0</td>\n",
       "      <td>0.0</td>\n",
       "      <td>0.0</td>\n",
       "    </tr>\n",
       "    <tr>\n",
       "      <th>176</th>\n",
       "      <td>-1.413369</td>\n",
       "      <td>0.0</td>\n",
       "      <td>0.0</td>\n",
       "      <td>1.0</td>\n",
       "      <td>1.0</td>\n",
       "      <td>0.0</td>\n",
       "      <td>1.0</td>\n",
       "      <td>0.0</td>\n",
       "      <td>0.0</td>\n",
       "      <td>0.0</td>\n",
       "      <td>0.0</td>\n",
       "      <td>1.0</td>\n",
       "      <td>0.0</td>\n",
       "      <td>0.0</td>\n",
       "      <td>0.0</td>\n",
       "    </tr>\n",
       "    <tr>\n",
       "      <th>177</th>\n",
       "      <td>-0.508962</td>\n",
       "      <td>0.0</td>\n",
       "      <td>0.0</td>\n",
       "      <td>1.0</td>\n",
       "      <td>0.0</td>\n",
       "      <td>1.0</td>\n",
       "      <td>0.0</td>\n",
       "      <td>1.0</td>\n",
       "      <td>0.0</td>\n",
       "      <td>0.0</td>\n",
       "      <td>1.0</td>\n",
       "      <td>0.0</td>\n",
       "      <td>0.0</td>\n",
       "      <td>0.0</td>\n",
       "      <td>0.0</td>\n",
       "    </tr>\n",
       "    <tr>\n",
       "      <th>178</th>\n",
       "      <td>1.073751</td>\n",
       "      <td>1.0</td>\n",
       "      <td>0.0</td>\n",
       "      <td>0.0</td>\n",
       "      <td>1.0</td>\n",
       "      <td>0.0</td>\n",
       "      <td>0.0</td>\n",
       "      <td>0.0</td>\n",
       "      <td>1.0</td>\n",
       "      <td>1.0</td>\n",
       "      <td>0.0</td>\n",
       "      <td>0.0</td>\n",
       "      <td>0.0</td>\n",
       "      <td>0.0</td>\n",
       "      <td>0.0</td>\n",
       "    </tr>\n",
       "  </tbody>\n",
       "</table>\n",
       "<p>179 rows × 15 columns</p>\n",
       "</div>"
      ],
      "text/plain": [
       "          Age  Pclass_1  Pclass_2  Pclass_3  Sex_female  Sex_male  \\\n",
       "0   -0.358227       0.0       1.0       0.0         1.0       0.0   \n",
       "1    0.470813       1.0       0.0       0.0         0.0       1.0   \n",
       "2    0.197086       0.0       0.0       1.0         0.0       1.0   \n",
       "3   -0.810431       0.0       1.0       0.0         1.0       0.0   \n",
       "4   -1.564104       0.0       0.0       1.0         0.0       1.0   \n",
       "..        ...       ...       ...       ...         ...       ...   \n",
       "174 -0.282860       0.0       0.0       1.0         1.0       0.0   \n",
       "175 -0.584329       1.0       0.0       0.0         1.0       0.0   \n",
       "176 -1.413369       0.0       0.0       1.0         1.0       0.0   \n",
       "177 -0.508962       0.0       0.0       1.0         0.0       1.0   \n",
       "178  1.073751       1.0       0.0       0.0         1.0       0.0   \n",
       "\n",
       "     FamilyClassification_LargeFamily  FamilyClassification_Single  \\\n",
       "0                                 0.0                          0.0   \n",
       "1                                 0.0                          1.0   \n",
       "2                                 0.0                          1.0   \n",
       "3                                 0.0                          0.0   \n",
       "4                                 0.0                          0.0   \n",
       "..                                ...                          ...   \n",
       "174                               0.0                          1.0   \n",
       "175                               0.0                          0.0   \n",
       "176                               1.0                          0.0   \n",
       "177                               0.0                          1.0   \n",
       "178                               0.0                          0.0   \n",
       "\n",
       "     FamilyClassification_SmallFamily  AgeCat_adult female  AgeCat_adult male  \\\n",
       "0                                 1.0                  1.0                0.0   \n",
       "1                                 0.0                  0.0                1.0   \n",
       "2                                 0.0                  0.0                1.0   \n",
       "3                                 1.0                  1.0                0.0   \n",
       "4                                 1.0                  0.0                0.0   \n",
       "..                                ...                  ...                ...   \n",
       "174                               0.0                  1.0                0.0   \n",
       "175                               1.0                  1.0                0.0   \n",
       "176                               0.0                  0.0                0.0   \n",
       "177                               0.0                  0.0                1.0   \n",
       "178                               1.0                  1.0                0.0   \n",
       "\n",
       "     AgeCat_child female  AgeCat_child male  AgeCat_teenager female  \\\n",
       "0                    0.0                0.0                     0.0   \n",
       "1                    0.0                0.0                     0.0   \n",
       "2                    0.0                0.0                     0.0   \n",
       "3                    0.0                0.0                     0.0   \n",
       "4                    0.0                1.0                     0.0   \n",
       "..                   ...                ...                     ...   \n",
       "174                  0.0                0.0                     0.0   \n",
       "175                  0.0                0.0                     0.0   \n",
       "176                  1.0                0.0                     0.0   \n",
       "177                  0.0                0.0                     0.0   \n",
       "178                  0.0                0.0                     0.0   \n",
       "\n",
       "     AgeCat_teenager male  \n",
       "0                     0.0  \n",
       "1                     0.0  \n",
       "2                     0.0  \n",
       "3                     0.0  \n",
       "4                     0.0  \n",
       "..                    ...  \n",
       "174                   0.0  \n",
       "175                   0.0  \n",
       "176                   0.0  \n",
       "177                   0.0  \n",
       "178                   0.0  \n",
       "\n",
       "[179 rows x 15 columns]"
      ]
     },
     "execution_count": 29,
     "metadata": {},
     "output_type": "execute_result"
    }
   ],
   "source": [
    "sub_X_train = pd.DataFrame(X_train.toarray(), columns = feature_names).copy()\n",
    "sub_X_test = pd.DataFrame(X_test.toarray(), columns = feature_names).copy()\n",
    "cols = [c for c in sub_X_train.columns if ((c.lower()[:5] != 'title') and (c.lower()[:4] != 'fare') and (c.lower()[:8] != 'embarked') and (c.lower()[:5] != 'cabin'))]\n",
    "\n",
    "\n",
    "sub_X_train = sub_X_train[cols]\n",
    "sub_X_test = sub_X_test[cols]\n",
    "sub_X_test"
   ]
  },
  {
   "cell_type": "markdown",
   "metadata": {},
   "source": [
    "### Random Forest"
   ]
  },
  {
   "cell_type": "code",
   "execution_count": 30,
   "metadata": {
    "scrolled": true
   },
   "outputs": [
    {
     "name": "stdout",
     "output_type": "stream",
     "text": [
      "===== Full Set of Features =====\n",
      "Random Forest: 0.782\n",
      "Confusion Matrix:\n",
      "[[85 14]\n",
      " [25 55]]\n",
      "===== Sub Set of Features =====\n",
      "Random Forest: 0.810\n",
      "Confusion Matrix:\n",
      "[[90 14]\n",
      " [20 55]]\n"
     ]
    }
   ],
   "source": [
    "# fit\n",
    "rf_classifier.fit(X_train, y_train)\n",
    "rf_sub_classifier.fit(sub_X_train, y_train)\n",
    "# prediciton\n",
    "rf_y_pred = rf_classifier.predict(X_test)\n",
    "rf_sub_y_pred = rf_sub_classifier.predict(sub_X_test)\n",
    "\n",
    "print(\"===== Full Set of Features =====\")\n",
    "print(\"Random Forest: %.3f\" % rf_classifier.score(X_test, y_test))\n",
    "print(\"Confusion Matrix:\")\n",
    "print(confusion_matrix(rf_y_pred, y_test))\n",
    "print(\"===== Sub Set of Features =====\")\n",
    "print(\"Random Forest: %.3f\" % rf_sub_classifier.score(sub_X_test, y_test))\n",
    "print(\"Confusion Matrix:\")\n",
    "print(confusion_matrix(rf_sub_y_pred, y_test))"
   ]
  },
  {
   "cell_type": "markdown",
   "metadata": {},
   "source": [
    "### Logistic Regression"
   ]
  },
  {
   "cell_type": "code",
   "execution_count": 31,
   "metadata": {},
   "outputs": [
    {
     "name": "stdout",
     "output_type": "stream",
     "text": [
      "===== Full Set of Features =====\n",
      "Logistic Regression: 0.810\n",
      "Confusion Matrix:\n",
      "[[89 13]\n",
      " [21 56]]\n",
      "===== Sub Set of Features =====\n",
      "Logistic Regression: 0.827\n",
      "Confusion Matrix:\n",
      "[[92 13]\n",
      " [18 56]]\n"
     ]
    }
   ],
   "source": [
    "# fit\n",
    "lg_classifier.fit(X_train, y_train)\n",
    "lg_sub_classifier.fit(sub_X_train, y_train)\n",
    "# prediction\n",
    "lg_y_pred = lg_classifier.predict(X_test)\n",
    "lg_sub_y_pred = lg_sub_classifier.predict(sub_X_test)\n",
    "\n",
    "print(\"===== Full Set of Features =====\")\n",
    "print(\"Logistic Regression: %.3f\" % lg_classifier.score(X_test, y_test))\n",
    "print(\"Confusion Matrix:\")\n",
    "print(confusion_matrix(lg_y_pred, y_test))\n",
    "print(\"===== Sub Set of Features =====\")\n",
    "print(\"Logistic Regression: %.3f\" % lg_sub_classifier.score(sub_X_test, y_test))\n",
    "print(\"Confusion Matrix:\")\n",
    "print(confusion_matrix(lg_sub_y_pred, y_test))"
   ]
  },
  {
   "cell_type": "markdown",
   "metadata": {},
   "source": [
    "### XGBoost"
   ]
  },
  {
   "cell_type": "code",
   "execution_count": 32,
   "metadata": {},
   "outputs": [
    {
     "name": "stdout",
     "output_type": "stream",
     "text": [
      "===== Full Set of Features =====\n",
      "XGBoost: 0.788\n",
      "Confusion Matrix:\n",
      "[[87 15]\n",
      " [23 54]]\n",
      "===== Sub Set of Features =====\n",
      "XGBoost: 0.777\n",
      "Confusion Matrix:\n",
      "[[85 15]\n",
      " [25 54]]\n"
     ]
    }
   ],
   "source": [
    "# fit\n",
    "xg_classifier.fit(X_train, y_train)\n",
    "xg_sub_classifier.fit(sub_X_train, y_train)\n",
    "# Prediction\n",
    "xg_y_pred = xg_classifier.predict(X_test)\n",
    "xg_sub_y_pred =xg_sub_classifier.predict(sub_X_test)\n",
    "print(\"===== Full Set of Features =====\")\n",
    "print(\"XGBoost: %.3f\" % xg_classifier.score(X_test, y_test))\n",
    "print(\"Confusion Matrix:\")\n",
    "print(confusion_matrix(xg_y_pred, y_test))\n",
    "print(\"===== Sub Set of Features =====\")\n",
    "print(\"XGBoost: %.3f\" % xg_sub_classifier.score(sub_X_test, y_test))\n",
    "print(\"Confusion Matrix:\")\n",
    "print(confusion_matrix(xg_sub_y_pred, y_test))"
   ]
  },
  {
   "cell_type": "code",
   "execution_count": 66,
   "metadata": {},
   "outputs": [],
   "source": [
    "###### ROUGH FOR SUBMISSION ######\n",
    "# Preprocess for \n",
    "full_test_set_X = test_df.iloc[:,1:]\n",
    "full_test_set_X.drop(columns = ['Name', 'Ticket', 'Cabin'], inplace = True)\n",
    "full_test_set_X = preprocessor.transform(full_test_set_X)\n",
    "\n",
    "# Refit models with full training set\n",
    "rf_classifier.fit(full_X, y)\n",
    "lg_classifier.fit(full_X, y)\n",
    "xg_classifier.fit(full_X, y)\n",
    "\n",
    "# Make prediciton dataframes for submission to Kaggle\n",
    "rf_full_tst_df = pd.DataFrame(data ={'PassengerId':test_df.iloc[:,0], 'Survived': rf_classifier.predict(full_test_set_X)})\n",
    "lg_full_tst_df = pd.DataFrame(data ={'PassengerId':test_df.iloc[:,0], 'Survived': lg_classifier.predict(full_test_set_X)})\n",
    "xg_full_tst_df = pd.DataFrame(data ={'PassengerId':test_df.iloc[:,0], 'Survived': xg_classifier.predict(full_test_set_X)})\n",
    "\n",
    "# Subset of features for the Full Training Set\n",
    "sub_train = pd.DataFrame(full_X.toarray(), columns = feature_names).copy()\n",
    "cols = [c for c in sub_test.columns if ((c.lower()[:5] != 'title') and (c.lower()[:4] != 'fare') and (c.lower()[:8] != 'embarked') and (c.lower()[:5] != 'cabin'))]\n",
    "sub_train = sub_train[cols]\n",
    "\n",
    "# Retrain models with full dataset with subset of features\n",
    "rf_classifier.fit(sub_train, y)\n",
    "lg_classifier.fit(sub_train, y)\n",
    "xg_classifier.fit(sub_train, y)\n",
    "\n",
    "# Subset of features for test set\n",
    "sub_test = pd.DataFrame(full_test_set_X.toarray(), columns = feature_names).copy()\n",
    "sub_test = sub_test[cols]\n",
    "\n",
    "# Make prediciton dataframes for submission to Kaggle\n",
    "rf_sub_tst_df = pd.DataFrame(data ={'PassengerId':test_df.iloc[:,0], 'Survived': rf_classifier.predict(sub_test)})\n",
    "lg_sub_tst_df = pd.DataFrame(data ={'PassengerId':test_df.iloc[:,0], 'Survived': lg_classifier.predict(sub_test)})\n",
    "xg_sub_tst_df = pd.DataFrame(data ={'PassengerId':test_df.iloc[:,0], 'Survived': xg_classifier.predict(sub_test)})"
   ]
  },
  {
   "cell_type": "code",
   "execution_count": 67,
   "metadata": {},
   "outputs": [],
   "source": [
    "rf_full_tst_df.to_csv(r'F:\\Sam Butterfield\\Desktop\\rf_full.csv', index = False)\n",
    "lg_full_tst_df.to_csv(r'F:\\Sam Butterfield\\Desktop\\lg_full.csv', index = False)\n",
    "xg_full_tst_df.to_csv(r'F:\\Sam Butterfield\\Desktop\\xg_full.csv', index = False)\n",
    "rf_sub_tst_df.to_csv(r'F:\\Sam Butterfield\\Desktop\\rf_sub.csv', index = False)\n",
    "lg_sub_tst_df.to_csv(r'F:\\Sam Butterfield\\Desktop\\lg_sub.csv', index = False)\n",
    "xg_sub_tst_df.to_csv(r'F:\\Sam Butterfield\\Desktop\\xg_sub.csv', index = False)"
   ]
  },
  {
   "cell_type": "markdown",
   "metadata": {},
   "source": [
    "# Kaggle Scores\n",
    "## Full Set of Features\n",
    "**Random Forest** - 0.76794\n",
    "\n",
    "**Logistic Regression** - 0.76794\n",
    "\n",
    "**XGBoost** - 0.75119\n",
    "\n",
    "## Sub Set of Features\n",
    "**Random Forest** - 0.73444\n",
    "\n",
    "**Logistic Regression** - 0.77511\n",
    "\n",
    "**XGBoost** - 0.74641\n"
   ]
  }
 ],
 "metadata": {
  "kernelspec": {
   "display_name": "Python 3",
   "language": "python",
   "name": "python3"
  },
  "language_info": {
   "codemirror_mode": {
    "name": "ipython",
    "version": 3
   },
   "file_extension": ".py",
   "mimetype": "text/x-python",
   "name": "python",
   "nbconvert_exporter": "python",
   "pygments_lexer": "ipython3",
   "version": "3.7.6"
  }
 },
 "nbformat": 4,
 "nbformat_minor": 4
}
